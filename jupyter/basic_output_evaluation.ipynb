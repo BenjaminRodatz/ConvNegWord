{
 "cells": [
  {
   "cell_type": "markdown",
   "id": "handy-mortality",
   "metadata": {},
   "source": [
    "This notebook is created to analyse simple correlations between entailment measures and human intution. Simply specify the file you want to analyse and run the remaining code."
   ]
  },
  {
   "cell_type": "code",
   "execution_count": 193,
   "id": "based-biology",
   "metadata": {},
   "outputs": [],
   "source": [
    "data_file_location = \"../data/output/test.csv\""
   ]
  },
  {
   "cell_type": "code",
   "execution_count": 194,
   "id": "specified-spider",
   "metadata": {},
   "outputs": [
    {
     "name": "stderr",
     "output_type": "stream",
     "text": [
      "[nltk_data] Downloading package wordnet to\n",
      "[nltk_data]     /home/benjaminrodatz/nltk_data...\n",
      "[nltk_data]   Package wordnet is already up-to-date!\n"
     ]
    },
    {
     "data": {
      "text/plain": [
       "True"
      ]
     },
     "execution_count": 194,
     "metadata": {},
     "output_type": "execute_result"
    }
   ],
   "source": [
    "import os,sys,inspect\n",
    "currentdir = os.path.dirname(os.path.abspath(inspect.getfile(inspect.currentframe())))\n",
    "parentdir = os.path.dirname(currentdir)\n",
    "sys.path.insert(0,parentdir) \n",
    "\n",
    "import nltk\n",
    "from nltk.corpus import wordnet as wn\n",
    "\n",
    "from operations.composition import *\n",
    "from operations.similarity_measures import *\n",
    "from operations.logical_negation import *\n",
    "from operations.worldly_context_creation import *\n",
    "from operations.helpers import *\n",
    "\n",
    "import pandas as pd\n",
    "import matplotlib.pyplot as plt\n",
    "\n",
    "import pickle\n",
    "import csv\n",
    "import random\n",
    "\n",
    "\n",
    "from matplotlib.lines import Line2D \n",
    "from matplotlib.ticker import MaxNLocator\n",
    "\n",
    "nltk.download('wordnet')"
   ]
  },
  {
   "cell_type": "code",
   "execution_count": 195,
   "id": "persistent-placement",
   "metadata": {},
   "outputs": [],
   "source": [
    "file = []\n",
    "df = None\n",
    "\n",
    "with open(data_file_location, newline='') as csvfile:\n",
    "        # with open('df_i4_all_idneg.csv', newline='') as csvfile:\n",
    "        spamreader = csv.reader(csvfile, delimiter=',', quotechar='|')\n",
    "        for row in spamreader:\n",
    "            test = row\n",
    "            file.append(row)\n",
    "\n",
    "        df = pd.DataFrame(file[1:])\n",
    "        df.columns = file[0]\n"
   ]
  },
  {
   "cell_type": "code",
   "execution_count": 196,
   "id": "talented-kidney",
   "metadata": {},
   "outputs": [
    {
     "name": "stdout",
     "output_type": "stream",
     "text": [
      "4_baseline_kba\n",
      "4_worldly_context_kba\n"
     ]
    }
   ],
   "source": [
    "# convert the rows after row 5 to numeric.\n",
    "# It is assumed that these only contain numbers which can then be compared to the human rating.\n",
    "# This cell prints all rows which have been found and will eventually be compared to the human rating.\n",
    "\n",
    "df[\"MEANRATING\"] = pd.to_numeric(df[\"MEANRATING\"])\n",
    "for col in df.columns[5:]:\n",
    "    print(col)\n",
    "    df[col] = pd.to_numeric(df[col])\n",
    "    \n"
   ]
  },
  {
   "cell_type": "code",
   "execution_count": 197,
   "id": "incident-cover",
   "metadata": {},
   "outputs": [
    {
     "data": {
      "text/html": [
       "<div>\n",
       "<style scoped>\n",
       "    .dataframe tbody tr th:only-of-type {\n",
       "        vertical-align: middle;\n",
       "    }\n",
       "\n",
       "    .dataframe tbody tr th {\n",
       "        vertical-align: top;\n",
       "    }\n",
       "\n",
       "    .dataframe thead th {\n",
       "        text-align: right;\n",
       "    }\n",
       "</style>\n",
       "<table border=\"1\" class=\"dataframe\">\n",
       "  <thead>\n",
       "    <tr style=\"text-align: right;\">\n",
       "      <th></th>\n",
       "      <th>NEGATED</th>\n",
       "      <th>ALTERNATIVE</th>\n",
       "      <th>RELATION</th>\n",
       "      <th>MEANRATING</th>\n",
       "      <th>SPLIT</th>\n",
       "      <th>4_baseline_kba</th>\n",
       "      <th>4_worldly_context_kba</th>\n",
       "    </tr>\n",
       "  </thead>\n",
       "  <tbody>\n",
       "    <tr>\n",
       "      <th>0</th>\n",
       "      <td>goat</td>\n",
       "      <td>beard</td>\n",
       "      <td>free_association</td>\n",
       "      <td>1.30</td>\n",
       "      <td>train</td>\n",
       "      <td>0.216249</td>\n",
       "      <td>0.488370</td>\n",
       "    </tr>\n",
       "    <tr>\n",
       "      <th>1</th>\n",
       "      <td>alligator</td>\n",
       "      <td>teeth</td>\n",
       "      <td>free_association</td>\n",
       "      <td>1.50</td>\n",
       "      <td>test</td>\n",
       "      <td>-0.415380</td>\n",
       "      <td>0.222114</td>\n",
       "    </tr>\n",
       "    <tr>\n",
       "      <th>2</th>\n",
       "      <td>chair</td>\n",
       "      <td>office</td>\n",
       "      <td>hypernym</td>\n",
       "      <td>1.60</td>\n",
       "      <td>train</td>\n",
       "      <td>-0.222410</td>\n",
       "      <td>-0.074476</td>\n",
       "    </tr>\n",
       "    <tr>\n",
       "      <th>3</th>\n",
       "      <td>yacht</td>\n",
       "      <td>job</td>\n",
       "      <td>unrelated</td>\n",
       "      <td>1.45</td>\n",
       "      <td>train</td>\n",
       "      <td>-0.262463</td>\n",
       "      <td>0.517264</td>\n",
       "    </tr>\n",
       "    <tr>\n",
       "      <th>4</th>\n",
       "      <td>goose</td>\n",
       "      <td>ducks</td>\n",
       "      <td>distributional</td>\n",
       "      <td>4.10</td>\n",
       "      <td>test</td>\n",
       "      <td>-0.114244</td>\n",
       "      <td>0.425544</td>\n",
       "    </tr>\n",
       "    <tr>\n",
       "      <th>...</th>\n",
       "      <td>...</td>\n",
       "      <td>...</td>\n",
       "      <td>...</td>\n",
       "      <td>...</td>\n",
       "      <td>...</td>\n",
       "      <td>...</td>\n",
       "      <td>...</td>\n",
       "    </tr>\n",
       "    <tr>\n",
       "      <th>1226</th>\n",
       "      <td>trout</td>\n",
       "      <td>living</td>\n",
       "      <td>unrelated</td>\n",
       "      <td>1.00</td>\n",
       "      <td>test</td>\n",
       "      <td>-0.395522</td>\n",
       "      <td>0.365334</td>\n",
       "    </tr>\n",
       "    <tr>\n",
       "      <th>1227</th>\n",
       "      <td>jacket</td>\n",
       "      <td>ones</td>\n",
       "      <td>unrelated</td>\n",
       "      <td>1.00</td>\n",
       "      <td>train</td>\n",
       "      <td>0.135149</td>\n",
       "      <td>0.265429</td>\n",
       "    </tr>\n",
       "    <tr>\n",
       "      <th>1228</th>\n",
       "      <td>television</td>\n",
       "      <td>rediffusion</td>\n",
       "      <td>cohyponym</td>\n",
       "      <td>1.40</td>\n",
       "      <td>test</td>\n",
       "      <td>0.213306</td>\n",
       "      <td>0.365173</td>\n",
       "    </tr>\n",
       "    <tr>\n",
       "      <th>1229</th>\n",
       "      <td>corn</td>\n",
       "      <td>students</td>\n",
       "      <td>unrelated</td>\n",
       "      <td>1.20</td>\n",
       "      <td>test</td>\n",
       "      <td>-0.481939</td>\n",
       "      <td>-0.026603</td>\n",
       "    </tr>\n",
       "    <tr>\n",
       "      <th>1230</th>\n",
       "      <td>dagger</td>\n",
       "      <td>grapheme</td>\n",
       "      <td>hypernym</td>\n",
       "      <td>1.30</td>\n",
       "      <td>test</td>\n",
       "      <td>-0.023226</td>\n",
       "      <td>0.263477</td>\n",
       "    </tr>\n",
       "  </tbody>\n",
       "</table>\n",
       "<p>1231 rows × 7 columns</p>\n",
       "</div>"
      ],
      "text/plain": [
       "         NEGATED  ALTERNATIVE          RELATION  MEANRATING  SPLIT  \\\n",
       "0           goat        beard  free_association        1.30  train   \n",
       "1      alligator        teeth  free_association        1.50   test   \n",
       "2          chair       office          hypernym        1.60  train   \n",
       "3          yacht          job         unrelated        1.45  train   \n",
       "4          goose        ducks    distributional        4.10   test   \n",
       "...          ...          ...               ...         ...    ...   \n",
       "1226       trout       living         unrelated        1.00   test   \n",
       "1227      jacket         ones         unrelated        1.00  train   \n",
       "1228  television  rediffusion         cohyponym        1.40   test   \n",
       "1229        corn     students         unrelated        1.20   test   \n",
       "1230      dagger     grapheme          hypernym        1.30   test   \n",
       "\n",
       "      4_baseline_kba  4_worldly_context_kba  \n",
       "0           0.216249               0.488370  \n",
       "1          -0.415380               0.222114  \n",
       "2          -0.222410              -0.074476  \n",
       "3          -0.262463               0.517264  \n",
       "4          -0.114244               0.425544  \n",
       "...              ...                    ...  \n",
       "1226       -0.395522               0.365334  \n",
       "1227        0.135149               0.265429  \n",
       "1228        0.213306               0.365173  \n",
       "1229       -0.481939              -0.026603  \n",
       "1230       -0.023226               0.263477  \n",
       "\n",
       "[1231 rows x 7 columns]"
      ]
     },
     "execution_count": 197,
     "metadata": {},
     "output_type": "execute_result"
    }
   ],
   "source": [
    "# This cell calculates and prints the correlations. \n",
    "# There may be some filtering going on, which can be adapted to once need.\n",
    "cols = []\n",
    "filter_term = \"hyp\"\n",
    "\n",
    "for col in df.columns:        \n",
    "    if \"\" in col:\n",
    "        cols.append(col)\n",
    "\n",
    "correlations = df[cols].corrwith(df[\"MEANRATING\"])\n",
    "\n",
    "df[cols]"
   ]
  },
  {
   "cell_type": "code",
   "execution_count": 198,
   "id": "ultimate-truck",
   "metadata": {},
   "outputs": [],
   "source": [
    "means = df[cols].mean()"
   ]
  },
  {
   "cell_type": "code",
   "execution_count": 199,
   "id": "inappropriate-cancer",
   "metadata": {},
   "outputs": [
    {
     "data": {
      "text/plain": [
       "Series([], dtype: float64)"
      ]
     },
     "execution_count": 199,
     "metadata": {},
     "output_type": "execute_result"
    }
   ],
   "source": [
    "means[25:]"
   ]
  },
  {
   "cell_type": "code",
   "execution_count": 200,
   "id": "honest-senegal",
   "metadata": {},
   "outputs": [],
   "source": [
    "nodes = [('w', 'baseline', '$w_N$'), \n",
    "         ('wc', 'worldly_context', '$\\\\texttt{wc}_{w_N}$'), \n",
    "         ('neg', 'logical', '$\\\\neg$'),\n",
    "         ('f1', 'framework1', '$CN_{word1}$'), \n",
    "         ('f3', 'framework3', '$CN_{word3}$'), \n",
    "         ('f4', 'framework4', '$CN_{word4}$')\n",
    "         ]"
   ]
  },
  {
   "cell_type": "code",
   "execution_count": 201,
   "id": "compatible-native",
   "metadata": {},
   "outputs": [],
   "source": [
    "for node1 in nodes:\n",
    "    for node2 in nodes:\n",
    "        if node1 == node2:\n",
    "            continue\n",
    "        name = node1[1]+\"_\"+node2[1]\n",
    "#         print(name, name in means.keys())\n",
    "        if (name in means.keys()):\n",
    "#             print(name)\n",
    "            score = round((means[name]), 3)\n",
    "            print(\"('{0}', '{1}', {2}),\".format(node1[0], node2[0], score))"
   ]
  },
  {
   "cell_type": "code",
   "execution_count": 202,
   "id": "secure-enhancement",
   "metadata": {},
   "outputs": [
    {
     "name": "stdout",
     "output_type": "stream",
     "text": [
      "\\\\\n",
      "$w_N$"
     ]
    },
    {
     "ename": "KeyError",
     "evalue": "'baseline_baseline'",
     "output_type": "error",
     "traceback": [
      "\u001b[0;31m---------------------------------------------------------------------------\u001b[0m",
      "\u001b[0;31mKeyError\u001b[0m                                  Traceback (most recent call last)",
      "\u001b[0;32m~/.local/lib/python3.8/site-packages/pandas/core/indexes/base.py\u001b[0m in \u001b[0;36mget_loc\u001b[0;34m(self, key, method, tolerance)\u001b[0m\n\u001b[1;32m   3079\u001b[0m             \u001b[0;32mtry\u001b[0m\u001b[0;34m:\u001b[0m\u001b[0;34m\u001b[0m\u001b[0;34m\u001b[0m\u001b[0m\n\u001b[0;32m-> 3080\u001b[0;31m                 \u001b[0;32mreturn\u001b[0m \u001b[0mself\u001b[0m\u001b[0;34m.\u001b[0m\u001b[0m_engine\u001b[0m\u001b[0;34m.\u001b[0m\u001b[0mget_loc\u001b[0m\u001b[0;34m(\u001b[0m\u001b[0mcasted_key\u001b[0m\u001b[0;34m)\u001b[0m\u001b[0;34m\u001b[0m\u001b[0;34m\u001b[0m\u001b[0m\n\u001b[0m\u001b[1;32m   3081\u001b[0m             \u001b[0;32mexcept\u001b[0m \u001b[0mKeyError\u001b[0m \u001b[0;32mas\u001b[0m \u001b[0merr\u001b[0m\u001b[0;34m:\u001b[0m\u001b[0;34m\u001b[0m\u001b[0;34m\u001b[0m\u001b[0m\n",
      "\u001b[0;32mpandas/_libs/index.pyx\u001b[0m in \u001b[0;36mpandas._libs.index.IndexEngine.get_loc\u001b[0;34m()\u001b[0m\n",
      "\u001b[0;32mpandas/_libs/index.pyx\u001b[0m in \u001b[0;36mpandas._libs.index.IndexEngine.get_loc\u001b[0;34m()\u001b[0m\n",
      "\u001b[0;32mpandas/_libs/hashtable_class_helper.pxi\u001b[0m in \u001b[0;36mpandas._libs.hashtable.PyObjectHashTable.get_item\u001b[0;34m()\u001b[0m\n",
      "\u001b[0;32mpandas/_libs/hashtable_class_helper.pxi\u001b[0m in \u001b[0;36mpandas._libs.hashtable.PyObjectHashTable.get_item\u001b[0;34m()\u001b[0m\n",
      "\u001b[0;31mKeyError\u001b[0m: 'baseline_baseline'",
      "\nThe above exception was the direct cause of the following exception:\n",
      "\u001b[0;31mKeyError\u001b[0m                                  Traceback (most recent call last)",
      "\u001b[0;32m<ipython-input-202-0d7b7de5a7dc>\u001b[0m in \u001b[0;36m<module>\u001b[0;34m\u001b[0m\n\u001b[1;32m      7\u001b[0m             \u001b[0mname\u001b[0m \u001b[0;34m=\u001b[0m \u001b[0mnodes\u001b[0m\u001b[0;34m[\u001b[0m\u001b[0mj\u001b[0m\u001b[0;34m]\u001b[0m\u001b[0;34m[\u001b[0m\u001b[0;36m1\u001b[0m\u001b[0;34m]\u001b[0m\u001b[0;34m+\u001b[0m\u001b[0;34m\"_\"\u001b[0m\u001b[0;34m+\u001b[0m\u001b[0mnodes\u001b[0m\u001b[0;34m[\u001b[0m\u001b[0mi\u001b[0m\u001b[0;34m]\u001b[0m\u001b[0;34m[\u001b[0m\u001b[0;36m1\u001b[0m\u001b[0;34m]\u001b[0m\u001b[0;34m\u001b[0m\u001b[0;34m\u001b[0m\u001b[0m\n\u001b[1;32m      8\u001b[0m \u001b[0;31m#         print(name, name in means.keys())\u001b[0m\u001b[0;34m\u001b[0m\u001b[0;34m\u001b[0m\u001b[0;34m\u001b[0m\u001b[0m\n\u001b[0;32m----> 9\u001b[0;31m         \u001b[0mscore\u001b[0m \u001b[0;34m=\u001b[0m \u001b[0mround\u001b[0m\u001b[0;34m(\u001b[0m\u001b[0mmeans\u001b[0m\u001b[0;34m[\u001b[0m\u001b[0mname\u001b[0m\u001b[0;34m]\u001b[0m\u001b[0;34m,\u001b[0m \u001b[0;36m3\u001b[0m\u001b[0;34m)\u001b[0m\u001b[0;34m\u001b[0m\u001b[0;34m\u001b[0m\u001b[0m\n\u001b[0m\u001b[1;32m     10\u001b[0m         \u001b[0mprint\u001b[0m\u001b[0;34m(\u001b[0m\u001b[0;34m\" & {0}\"\u001b[0m\u001b[0;34m.\u001b[0m\u001b[0mformat\u001b[0m\u001b[0;34m(\u001b[0m\u001b[0mscore\u001b[0m\u001b[0;34m)\u001b[0m\u001b[0;34m,\u001b[0m \u001b[0mend\u001b[0m \u001b[0;34m=\u001b[0m \u001b[0;34m''\u001b[0m\u001b[0;34m)\u001b[0m\u001b[0;34m\u001b[0m\u001b[0;34m\u001b[0m\u001b[0m\n",
      "\u001b[0;32m~/.local/lib/python3.8/site-packages/pandas/core/series.py\u001b[0m in \u001b[0;36m__getitem__\u001b[0;34m(self, key)\u001b[0m\n\u001b[1;32m    851\u001b[0m \u001b[0;34m\u001b[0m\u001b[0m\n\u001b[1;32m    852\u001b[0m         \u001b[0;32melif\u001b[0m \u001b[0mkey_is_scalar\u001b[0m\u001b[0;34m:\u001b[0m\u001b[0;34m\u001b[0m\u001b[0;34m\u001b[0m\u001b[0m\n\u001b[0;32m--> 853\u001b[0;31m             \u001b[0;32mreturn\u001b[0m \u001b[0mself\u001b[0m\u001b[0;34m.\u001b[0m\u001b[0m_get_value\u001b[0m\u001b[0;34m(\u001b[0m\u001b[0mkey\u001b[0m\u001b[0;34m)\u001b[0m\u001b[0;34m\u001b[0m\u001b[0;34m\u001b[0m\u001b[0m\n\u001b[0m\u001b[1;32m    854\u001b[0m \u001b[0;34m\u001b[0m\u001b[0m\n\u001b[1;32m    855\u001b[0m         \u001b[0;32mif\u001b[0m \u001b[0mis_hashable\u001b[0m\u001b[0;34m(\u001b[0m\u001b[0mkey\u001b[0m\u001b[0;34m)\u001b[0m\u001b[0;34m:\u001b[0m\u001b[0;34m\u001b[0m\u001b[0;34m\u001b[0m\u001b[0m\n",
      "\u001b[0;32m~/.local/lib/python3.8/site-packages/pandas/core/series.py\u001b[0m in \u001b[0;36m_get_value\u001b[0;34m(self, label, takeable)\u001b[0m\n\u001b[1;32m    959\u001b[0m \u001b[0;34m\u001b[0m\u001b[0m\n\u001b[1;32m    960\u001b[0m         \u001b[0;31m# Similar to Index.get_value, but we do not fall back to positional\u001b[0m\u001b[0;34m\u001b[0m\u001b[0;34m\u001b[0m\u001b[0;34m\u001b[0m\u001b[0m\n\u001b[0;32m--> 961\u001b[0;31m         \u001b[0mloc\u001b[0m \u001b[0;34m=\u001b[0m \u001b[0mself\u001b[0m\u001b[0;34m.\u001b[0m\u001b[0mindex\u001b[0m\u001b[0;34m.\u001b[0m\u001b[0mget_loc\u001b[0m\u001b[0;34m(\u001b[0m\u001b[0mlabel\u001b[0m\u001b[0;34m)\u001b[0m\u001b[0;34m\u001b[0m\u001b[0;34m\u001b[0m\u001b[0m\n\u001b[0m\u001b[1;32m    962\u001b[0m         \u001b[0;32mreturn\u001b[0m \u001b[0mself\u001b[0m\u001b[0;34m.\u001b[0m\u001b[0mindex\u001b[0m\u001b[0;34m.\u001b[0m\u001b[0m_get_values_for_loc\u001b[0m\u001b[0;34m(\u001b[0m\u001b[0mself\u001b[0m\u001b[0;34m,\u001b[0m \u001b[0mloc\u001b[0m\u001b[0;34m,\u001b[0m \u001b[0mlabel\u001b[0m\u001b[0;34m)\u001b[0m\u001b[0;34m\u001b[0m\u001b[0;34m\u001b[0m\u001b[0m\n\u001b[1;32m    963\u001b[0m \u001b[0;34m\u001b[0m\u001b[0m\n",
      "\u001b[0;32m~/.local/lib/python3.8/site-packages/pandas/core/indexes/base.py\u001b[0m in \u001b[0;36mget_loc\u001b[0;34m(self, key, method, tolerance)\u001b[0m\n\u001b[1;32m   3080\u001b[0m                 \u001b[0;32mreturn\u001b[0m \u001b[0mself\u001b[0m\u001b[0;34m.\u001b[0m\u001b[0m_engine\u001b[0m\u001b[0;34m.\u001b[0m\u001b[0mget_loc\u001b[0m\u001b[0;34m(\u001b[0m\u001b[0mcasted_key\u001b[0m\u001b[0;34m)\u001b[0m\u001b[0;34m\u001b[0m\u001b[0;34m\u001b[0m\u001b[0m\n\u001b[1;32m   3081\u001b[0m             \u001b[0;32mexcept\u001b[0m \u001b[0mKeyError\u001b[0m \u001b[0;32mas\u001b[0m \u001b[0merr\u001b[0m\u001b[0;34m:\u001b[0m\u001b[0;34m\u001b[0m\u001b[0;34m\u001b[0m\u001b[0m\n\u001b[0;32m-> 3082\u001b[0;31m                 \u001b[0;32mraise\u001b[0m \u001b[0mKeyError\u001b[0m\u001b[0;34m(\u001b[0m\u001b[0mkey\u001b[0m\u001b[0;34m)\u001b[0m \u001b[0;32mfrom\u001b[0m \u001b[0merr\u001b[0m\u001b[0;34m\u001b[0m\u001b[0;34m\u001b[0m\u001b[0m\n\u001b[0m\u001b[1;32m   3083\u001b[0m \u001b[0;34m\u001b[0m\u001b[0m\n\u001b[1;32m   3084\u001b[0m         \u001b[0;32mif\u001b[0m \u001b[0mtolerance\u001b[0m \u001b[0;32mis\u001b[0m \u001b[0;32mnot\u001b[0m \u001b[0;32mNone\u001b[0m\u001b[0;34m:\u001b[0m\u001b[0;34m\u001b[0m\u001b[0;34m\u001b[0m\u001b[0m\n",
      "\u001b[0;31mKeyError\u001b[0m: 'baseline_baseline'"
     ]
    }
   ],
   "source": [
    "for i in range(len(nodes)):\n",
    "    print(\"\\\\\\\\\")\n",
    "    print(nodes[i][2], end = '')\n",
    "    for j in range(len(nodes)):\n",
    "        name = nodes[i][1]+\"_\"+nodes[j][1]\n",
    "        if name not in means.keys():\n",
    "            name = nodes[j][1]+\"_\"+nodes[i][1]\n",
    "#         print(name, name in means.keys())\n",
    "        score = round(means[name], 3)\n",
    "        print(\" & {0}\".format(score), end = '')"
   ]
  },
  {
   "cell_type": "code",
   "execution_count": null,
   "id": "alpha-button",
   "metadata": {},
   "outputs": [],
   "source": []
  }
 ],
 "metadata": {
  "kernelspec": {
   "display_name": "Python 3",
   "language": "python",
   "name": "python3"
  },
  "language_info": {
   "codemirror_mode": {
    "name": "ipython",
    "version": 3
   },
   "file_extension": ".py",
   "mimetype": "text/x-python",
   "name": "python",
   "nbconvert_exporter": "python",
   "pygments_lexer": "ipython3",
   "version": "3.8.10"
  }
 },
 "nbformat": 4,
 "nbformat_minor": 5
}
