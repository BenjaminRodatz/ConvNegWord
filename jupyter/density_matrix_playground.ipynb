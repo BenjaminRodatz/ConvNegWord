{
 "cells": [
  {
   "cell_type": "markdown",
   "id": "democratic-forward",
   "metadata": {},
   "source": [
    "Simple file to play around with density matrices and explore."
   ]
  },
  {
   "cell_type": "code",
   "execution_count": 1,
   "id": "healthy-carter",
   "metadata": {},
   "outputs": [],
   "source": [
    "import os,sys,inspect\n",
    "currentdir = os.path.dirname(os.path.abspath(inspect.getfile(inspect.currentframe())))\n",
    "parentdir = os.path.dirname(currentdir)\n",
    "sys.path.insert(0,parentdir) \n",
    "\n",
    "import nltk\n",
    "from nltk.corpus import wordnet as wn\n",
    "\n",
    "from operations.composition import *\n",
    "from operations.similarity_measures import *\n",
    "from operations.logical_negation import *\n",
    "from operations.worldly_context_creation import *\n",
    "from operations.helpers import *\n",
    "\n",
    "\n",
    "import pandas as pd\n",
    "import matplotlib.pyplot as plt\n",
    "import numpy as np\n",
    "import random\n",
    "\n",
    "\n",
    "import pickle"
   ]
  },
  {
   "cell_type": "code",
   "execution_count": 2,
   "id": "alternate-irrigation",
   "metadata": {},
   "outputs": [],
   "source": [
    "density = pickle.load(open(\"../data/density_matrices/density_matrices.p\", \"rb\"))"
   ]
  },
  {
   "cell_type": "code",
   "execution_count": 3,
   "id": "initial-freeze",
   "metadata": {},
   "outputs": [],
   "source": [
    "val = np.linalg.eigvalsh(density['goose'])"
   ]
  },
  {
   "cell_type": "code",
   "execution_count": 4,
   "id": "metropolitan-vegetation",
   "metadata": {},
   "outputs": [
    {
     "data": {
      "text/plain": [
       "0.4245284998671247"
      ]
     },
     "execution_count": 4,
     "metadata": {},
     "output_type": "execute_result"
    }
   ],
   "source": [
    "random.random()"
   ]
  },
  {
   "cell_type": "code",
   "execution_count": 5,
   "id": "entertaining-orientation",
   "metadata": {},
   "outputs": [
    {
     "name": "stdout",
     "output_type": "stream",
     "text": [
      "4156\n",
      "941\n",
      "2580\n",
      "1359\n",
      "2036\n"
     ]
    },
    {
     "data": {
      "text/plain": [
       "True"
      ]
     },
     "execution_count": 5,
     "metadata": {},
     "output_type": "execute_result"
    }
   ],
   "source": [
    "\n",
    "keys = list(density.keys())\n",
    "matrices = [False] * 5\n",
    "\n",
    "random_index = int(random.random() * len(keys)) \n",
    "\n",
    "word = density[keys[random_index]]\n",
    "\n",
    "for i in range(0, len(matrices)):\n",
    "    random_index = int(random.random() * len(keys)) \n",
    "    print(random_index)\n",
    "    matrices[i] = density[keys[random_index]]\n",
    "\n",
    "context = np.zeros([50, 50])\n",
    "\n",
    "for matrix in matrices:\n",
    "    context += matrix\n",
    "    \n",
    "first = diag_con(word, context, basis='right')\n",
    "\n",
    "second = np.zeros([50, 50])\n",
    "for matrix in matrices:\n",
    "    second += diag_con(word, matrix, basis='right')\n",
    "\n",
    "(abs(first - second) < 0.001).all()"
   ]
  },
  {
   "cell_type": "code",
   "execution_count": 6,
   "id": "wrapped-ranking",
   "metadata": {},
   "outputs": [
    {
     "data": {
      "text/plain": [
       "0.19857989302694687"
      ]
     },
     "execution_count": 6,
     "metadata": {},
     "output_type": "execute_result"
    }
   ],
   "source": [
    "trace_similarity(density['goat'], density['goat'])"
   ]
  },
  {
   "cell_type": "code",
   "execution_count": 7,
   "id": "certain-shield",
   "metadata": {},
   "outputs": [],
   "source": [
    "matrix = normalize(density['goat'], if_max_eig_always_1 = True)\n",
    "matrix /= np.trace(matrix)"
   ]
  },
  {
   "cell_type": "code",
   "execution_count": 8,
   "id": "driven-spokesman",
   "metadata": {},
   "outputs": [],
   "source": [
    "test = (matrix / np.trace(matrix)) @ (matrix / np.trace(matrix))"
   ]
  },
  {
   "cell_type": "code",
   "execution_count": 9,
   "id": "temporal-virginia",
   "metadata": {},
   "outputs": [
    {
     "data": {
      "text/plain": [
       "array([[ 1.43130119e-03, -7.67125349e-04, -2.33851454e-04, ...,\n",
       "         1.49051745e-03,  2.16918052e-03, -2.02826106e-03],\n",
       "       [-7.67125349e-04,  2.31205422e-03,  3.00526978e-03, ...,\n",
       "        -2.84756824e-05, -3.69420416e-03,  1.76155483e-03],\n",
       "       [-2.33851454e-04,  3.00526978e-03,  6.28791773e-03, ...,\n",
       "         8.08371774e-04, -2.23914727e-03,  4.47925424e-04],\n",
       "       ...,\n",
       "       [ 1.49051745e-03, -2.84756824e-05,  8.08371774e-04, ...,\n",
       "         2.05836974e-03,  8.71709974e-04, -2.08312037e-03],\n",
       "       [ 2.16918052e-03, -3.69420416e-03, -2.23914727e-03, ...,\n",
       "         8.71709974e-04,  9.64093095e-03, -5.23786813e-03],\n",
       "       [-2.02826106e-03,  1.76155483e-03,  4.47925424e-04, ...,\n",
       "        -2.08312037e-03, -5.23786813e-03,  5.31272221e-03]])"
      ]
     },
     "execution_count": 9,
     "metadata": {},
     "output_type": "execute_result"
    }
   ],
   "source": [
    "test"
   ]
  },
  {
   "cell_type": "code",
   "execution_count": 10,
   "id": "valued-yield",
   "metadata": {},
   "outputs": [],
   "source": [
    "test2 = (matrix @ matrix) / (np.trace(matrix)* np.trace(matrix))"
   ]
  },
  {
   "cell_type": "code",
   "execution_count": 11,
   "id": "powerful-pottery",
   "metadata": {},
   "outputs": [
    {
     "data": {
      "text/plain": [
       "0.19857989302694684"
      ]
     },
     "execution_count": 11,
     "metadata": {},
     "output_type": "execute_result"
    }
   ],
   "source": [
    "np.trace(matrix @ matrix)\n"
   ]
  },
  {
   "cell_type": "code",
   "execution_count": 12,
   "id": "prompt-thunder",
   "metadata": {},
   "outputs": [
    {
     "data": {
      "text/plain": [
       "1.0"
      ]
     },
     "execution_count": 12,
     "metadata": {},
     "output_type": "execute_result"
    }
   ],
   "source": [
    "np.trace(matrix)"
   ]
  },
  {
   "cell_type": "code",
   "execution_count": null,
   "id": "dangerous-combining",
   "metadata": {},
   "outputs": [],
   "source": []
  }
 ],
 "metadata": {
  "kernelspec": {
   "display_name": "Python 3",
   "language": "python",
   "name": "python3"
  },
  "language_info": {
   "codemirror_mode": {
    "name": "ipython",
    "version": 3
   },
   "file_extension": ".py",
   "mimetype": "text/x-python",
   "name": "python",
   "nbconvert_exporter": "python",
   "pygments_lexer": "ipython3",
   "version": "3.8.10"
  }
 },
 "nbformat": 4,
 "nbformat_minor": 5
}
