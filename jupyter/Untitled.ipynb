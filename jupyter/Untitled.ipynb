{
 "cells": [
  {
   "cell_type": "code",
   "execution_count": 5,
   "id": "strategic-handle",
   "metadata": {},
   "outputs": [
    {
     "name": "stderr",
     "output_type": "stream",
     "text": [
      "[nltk_data] Downloading package wordnet to\n",
      "[nltk_data]     /home/benjaminrodatz/nltk_data...\n",
      "[nltk_data]   Package wordnet is already up-to-date!\n"
     ]
    }
   ],
   "source": [
    "import nltk\n",
    "nltk.download('wordnet')\n",
    "from nltk.corpus import wordnet as wn\n",
    "\n",
    "\n",
    "import pandas as pd\n",
    "import matplotlib.pyplot as plt\n",
    "import numpy as np\n",
    "\n",
    "import pickle"
   ]
  },
  {
   "cell_type": "code",
   "execution_count": 6,
   "id": "alternate-irrigation",
   "metadata": {},
   "outputs": [],
   "source": [
    "density = pickle.load(open(\"../data/density_matrices/density_matrices.p\", \"rb\"))\n",
    "# density2 = pickle.load(open(\"../data/density_matrices/dm-50d-glove-wn-martha.p\", \"rb\"))"
   ]
  },
  {
   "cell_type": "code",
   "execution_count": 7,
   "id": "laden-birthday",
   "metadata": {},
   "outputs": [
    {
     "ename": "FileNotFoundError",
     "evalue": "[Errno 2] No such file or directory: '../data/density_matrices/all-hypos.p'",
     "output_type": "error",
     "traceback": [
      "\u001b[0;31m---------------------------------------------------------------------------\u001b[0m",
      "\u001b[0;31mFileNotFoundError\u001b[0m                         Traceback (most recent call last)",
      "\u001b[0;32m<ipython-input-7-584015ea0eee>\u001b[0m in \u001b[0;36m<module>\u001b[0;34m\u001b[0m\n\u001b[1;32m      1\u001b[0m \u001b[0mhypos\u001b[0m \u001b[0;34m=\u001b[0m \u001b[0mpickle\u001b[0m\u001b[0;34m.\u001b[0m\u001b[0mload\u001b[0m\u001b[0;34m(\u001b[0m\u001b[0mopen\u001b[0m\u001b[0;34m(\u001b[0m\u001b[0;34m\"../data/density_matrices/all-hypos-temp.p\"\u001b[0m\u001b[0;34m,\u001b[0m \u001b[0;34m\"rb\"\u001b[0m\u001b[0;34m)\u001b[0m\u001b[0;34m)\u001b[0m\u001b[0;34m\u001b[0m\u001b[0;34m\u001b[0m\u001b[0m\n\u001b[0;32m----> 2\u001b[0;31m \u001b[0mhypos2\u001b[0m \u001b[0;34m=\u001b[0m \u001b[0mpickle\u001b[0m\u001b[0;34m.\u001b[0m\u001b[0mload\u001b[0m\u001b[0;34m(\u001b[0m\u001b[0mopen\u001b[0m\u001b[0;34m(\u001b[0m\u001b[0;34m\"../data/density_matrices/all-hypos.p\"\u001b[0m\u001b[0;34m,\u001b[0m \u001b[0;34m\"rb\"\u001b[0m\u001b[0;34m)\u001b[0m\u001b[0;34m)\u001b[0m\u001b[0;34m\u001b[0m\u001b[0;34m\u001b[0m\u001b[0m\n\u001b[0m",
      "\u001b[0;31mFileNotFoundError\u001b[0m: [Errno 2] No such file or directory: '../data/density_matrices/all-hypos.p'"
     ]
    }
   ],
   "source": [
    "hypos = pickle.load(open(\"../data/density_matrices/all-hypos-temp.p\", \"rb\"))\n",
    "hypos2 = pickle.load(open(\"../data/density_matrices/all-hypos.p\", \"rb\"))"
   ]
  },
  {
   "cell_type": "code",
   "execution_count": 8,
   "id": "proud-wallpaper",
   "metadata": {},
   "outputs": [
    {
     "ename": "NameError",
     "evalue": "name 'k_hyp' is not defined",
     "output_type": "error",
     "traceback": [
      "\u001b[0;31m---------------------------------------------------------------------------\u001b[0m",
      "\u001b[0;31mNameError\u001b[0m                                 Traceback (most recent call last)",
      "\u001b[0;32m<ipython-input-8-e28f79acec76>\u001b[0m in \u001b[0;36m<module>\u001b[0;34m\u001b[0m\n\u001b[1;32m      1\u001b[0m \u001b[0mwords\u001b[0m \u001b[0;34m=\u001b[0m \u001b[0;34m[\u001b[0m\u001b[0;34m\"programmes\"\u001b[0m\u001b[0;34m]\u001b[0m\u001b[0;34m\u001b[0m\u001b[0;34m\u001b[0m\u001b[0m\n\u001b[0;32m----> 2\u001b[0;31m \u001b[0mhyponomies\u001b[0m \u001b[0;34m=\u001b[0m \u001b[0;34m[\u001b[0m\u001b[0;34m(\u001b[0m\u001b[0;34m\"k_hyp\"\u001b[0m\u001b[0;34m,\u001b[0m \u001b[0mk_hyp\u001b[0m\u001b[0;34m)\u001b[0m\u001b[0;34m,\u001b[0m \u001b[0;34m(\u001b[0m\u001b[0;34m\"k_E\"\u001b[0m\u001b[0;34m,\u001b[0m \u001b[0mk_E\u001b[0m\u001b[0;34m)\u001b[0m\u001b[0;34m,\u001b[0m \u001b[0;34m(\u001b[0m\u001b[0;34m\"k_BA\"\u001b[0m\u001b[0;34m,\u001b[0m \u001b[0mk_BA\u001b[0m\u001b[0;34m)\u001b[0m\u001b[0;34m]\u001b[0m\u001b[0;34m\u001b[0m\u001b[0;34m\u001b[0m\u001b[0m\n\u001b[0m",
      "\u001b[0;31mNameError\u001b[0m: name 'k_hyp' is not defined"
     ]
    }
   ],
   "source": [
    "words = [\"programmes\"]\n",
    "hyponomies = [(\"k_hyp\", k_hyp), (\"k_E\", k_E), (\"k_BA\", k_BA)]"
   ]
  },
  {
   "cell_type": "code",
   "execution_count": 12,
   "id": "initial-freeze",
   "metadata": {},
   "outputs": [],
   "source": [
    "val = np.linalg.eigvalsh(density['goose'])"
   ]
  },
  {
   "cell_type": "code",
   "execution_count": 13,
   "id": "metropolitan-vegetation",
   "metadata": {},
   "outputs": [
    {
     "data": {
      "text/plain": [
       "array([-8.12084465e-17, -4.25884460e-17, -3.63253526e-17, -3.02943206e-17,\n",
       "       -2.47879332e-17, -2.43776685e-17, -2.15455501e-17, -2.13402614e-17,\n",
       "       -1.84700352e-17, -1.55035140e-17, -1.24394774e-17, -1.04789694e-17,\n",
       "       -8.95254305e-18, -6.70026354e-18, -5.95988795e-18, -4.78375264e-18,\n",
       "       -3.74816584e-18, -2.48611273e-18, -1.54223842e-18, -9.92999984e-19,\n",
       "        3.11438585e-19,  2.60002226e-18,  3.24622951e-18,  3.37055708e-18,\n",
       "        6.20398574e-18,  8.59659626e-18,  9.76936109e-18,  1.16780540e-17,\n",
       "        1.23040407e-17,  1.53949257e-17,  1.73255829e-17,  1.88953414e-17,\n",
       "        2.07415850e-17,  2.34229218e-17,  2.67375204e-17,  3.25199651e-17,\n",
       "        3.50117779e-17,  4.67242680e-17,  5.13681368e-17,  7.23585785e-17,\n",
       "        7.94905299e-17,  1.87382961e-16,  5.81013277e-02,  7.80143142e-02,\n",
       "        1.26684031e-01,  1.38958717e-01,  1.76776312e-01,  2.85429336e-01,\n",
       "        4.91804048e-01,  1.00000000e+00])"
      ]
     },
     "execution_count": 13,
     "metadata": {},
     "output_type": "execute_result"
    }
   ],
   "source": [
    "val"
   ]
  },
  {
   "cell_type": "code",
   "execution_count": 48,
   "id": "forbidden-birmingham",
   "metadata": {},
   "outputs": [
    {
     "name": "stdout",
     "output_type": "stream",
     "text": [
      "done\n"
     ]
    }
   ],
   "source": [
    "for key in hypos.keys():\n",
    "    if not set(hypos[key]) == set(hypos2[key]):\n",
    "        print(\"Mistake at \", key)\n",
    "print(\"done\")"
   ]
  },
  {
   "cell_type": "code",
   "execution_count": 39,
   "id": "closed-greenhouse",
   "metadata": {},
   "outputs": [
    {
     "data": {
      "text/plain": [
       "['coalescency', 'conglutination', 'concretion', 'coalescence', 'coalition']"
      ]
     },
     "execution_count": 39,
     "metadata": {},
     "output_type": "execute_result"
    }
   ],
   "source": []
  },
  {
   "cell_type": "code",
   "execution_count": null,
   "id": "subtle-format",
   "metadata": {},
   "outputs": [],
   "source": []
  }
 ],
 "metadata": {
  "kernelspec": {
   "display_name": "Python 3",
   "language": "python",
   "name": "python3"
  },
  "language_info": {
   "codemirror_mode": {
    "name": "ipython",
    "version": 3
   },
   "file_extension": ".py",
   "mimetype": "text/x-python",
   "name": "python",
   "nbconvert_exporter": "python",
   "pygments_lexer": "ipython3",
   "version": "3.8.10"
  }
 },
 "nbformat": 4,
 "nbformat_minor": 5
}
