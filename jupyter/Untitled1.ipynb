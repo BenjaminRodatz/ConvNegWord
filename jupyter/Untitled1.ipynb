{
 "cells": [
  {
   "cell_type": "code",
   "execution_count": 1,
   "id": "amended-performance",
   "metadata": {},
   "outputs": [
    {
     "name": "stderr",
     "output_type": "stream",
     "text": [
      "[nltk_data] Downloading package wordnet to\n",
      "[nltk_data]     /home/benjaminrodatz/nltk_data...\n",
      "[nltk_data]   Package wordnet is already up-to-date!\n"
     ]
    },
    {
     "data": {
      "text/plain": [
       "True"
      ]
     },
     "execution_count": 1,
     "metadata": {},
     "output_type": "execute_result"
    }
   ],
   "source": [
    "import os,sys,inspect\n",
    "currentdir = os.path.dirname(os.path.abspath(inspect.getfile(inspect.currentframe())))\n",
    "parentdir = os.path.dirname(currentdir)\n",
    "sys.path.insert(0,parentdir) \n",
    "\n",
    "import nltk\n",
    "from nltk.corpus import wordnet as wn\n",
    "\n",
    "from operations.composition import *\n",
    "from operations.similarity_measures import *\n",
    "from operations.logical_negation import *\n",
    "from operations.worldly_context_creation import *\n",
    "from operations.helpers import *\n",
    "\n",
    "import pandas as pd\n",
    "import matplotlib.pyplot as plt\n",
    "\n",
    "import pickle\n",
    "import csv\n",
    "import random\n",
    "\n",
    "\n",
    "from matplotlib.lines import Line2D \n",
    "from matplotlib.ticker import MaxNLocator\n",
    "\n",
    "nltk.download('wordnet')"
   ]
  },
  {
   "cell_type": "code",
   "execution_count": 2,
   "id": "quality-lebanon",
   "metadata": {},
   "outputs": [],
   "source": [
    "def generate_random_density_matrix(dim=None, if_pure=False):\n",
    "    if dim is None:\n",
    "        dim = np.random.randint(2, 6)\n",
    "    \n",
    "    if if_pure:\n",
    "        num_itr = 1\n",
    "        prob = [1]\n",
    "    else:\n",
    "        num_itr = np.random.randint(dim/2, 2*dim)\n",
    "        prob = []\n",
    "        for i in range(num_itr-1):\n",
    "            prob.append(np.random.rand() * (1 - np.sum(prob)))\n",
    "        prob.append(1-np.sum(prob))\n",
    "\n",
    "    rho = np.zeros((dim, dim))\n",
    "    for i in range(num_itr):\n",
    "        rho1 = np.random.rand(dim) * 2 - 1\n",
    "        rho1 = rho1 / LA.norm(rho1)\n",
    "        rho1 = np.outer(rho1, rho1)\n",
    "        rho = rho + prob[i] * rho1\n",
    "\n",
    "    return rho"
   ]
  },
  {
   "cell_type": "code",
   "execution_count": 14,
   "id": "bulgarian-johns",
   "metadata": {},
   "outputs": [],
   "source": [
    "dim = 5\n",
    "\n",
    "identity = np.identity(dim)\n",
    "\n",
    "rho = generate_random_density_matrix(dim)\n",
    "\n"
   ]
  },
  {
   "cell_type": "code",
   "execution_count": 25,
   "id": "pretty-exception",
   "metadata": {},
   "outputs": [
    {
     "data": {
      "text/plain": [
       "array([[0., 0., 0., 0., 0.],\n",
       "       [0., 0., 0., 0., 0.],\n",
       "       [0., 0., 0., 0., 0.],\n",
       "       [0., 0., 0., 0., 0.],\n",
       "       [0., 0., 0., 0., 0.]])"
      ]
     },
     "execution_count": 25,
     "metadata": {},
     "output_type": "execute_result"
    }
   ],
   "source": [
    "phaser(identity, rho, basis='left') - rho"
   ]
  },
  {
   "cell_type": "code",
   "execution_count": null,
   "id": "upper-treasurer",
   "metadata": {},
   "outputs": [],
   "source": []
  }
 ],
 "metadata": {
  "kernelspec": {
   "display_name": "Python 3",
   "language": "python",
   "name": "python3"
  },
  "language_info": {
   "codemirror_mode": {
    "name": "ipython",
    "version": 3
   },
   "file_extension": ".py",
   "mimetype": "text/x-python",
   "name": "python",
   "nbconvert_exporter": "python",
   "pygments_lexer": "ipython3",
   "version": "3.8.5"
  }
 },
 "nbformat": 4,
 "nbformat_minor": 5
}
